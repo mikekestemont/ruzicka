{
 "cells": [
  {
   "attachments": {},
   "cell_type": "markdown",
   "metadata": {},
   "source": [
    "# Ružička: Authorship Verification in Python"
   ]
  },
  {
   "attachments": {},
   "cell_type": "markdown",
   "metadata": {},
   "source": [
    "In this notebook, we offer a quick tutorial as to how you could use the code in this repository. While the package is very much geared towards our own work in authorship verification, you might some of the more general functions useful. All feedback and comments are welcome. This code assumes Python 2.7+ (Python 3 has not been tested). You do not need to install the library to run the code below, but please note that there are a number of well-known third-party Python libraries, including:\n",
    "+ numpy\n",
    "+ scipy\n",
    "+ scikit-learn\n",
    "+ matplotlib\n",
    "+ seaborn\n",
    "+ numba\n",
    "\n",
    "and preferably (for GPU acceleration and/or JIT-compilation):\n",
    "+ theano\n",
    "+ numbapro\n",
    "\n",
    "We recommend installing Continuum's excellent [Anaconda Python framework](https://www.continuum.io/downloads), which comes bundled with most of these dependencies.\n"
   ]
  },
  {
   "attachments": {},
   "cell_type": "markdown",
   "metadata": {},
   "source": [
    "## Walk through"
   ]
  },
  {
   "attachments": {},
   "cell_type": "markdown",
   "metadata": {},
   "source": [
    "By default, we assume that your data sets are stored in a directory the format on the PAN 2014 track on authorship attribution: a directory should minimally include one folder per verification problem (an `unknown.txt` and at least one `known01.txt`) and a `truth.txt`. E.g. for the corpus of Dutch essays (`../data/2014/du_essays/train`), `truth.txt` contains has a tab-separated line with the ground truth for each problem:\n",
    "\n",
    "```\n",
    "DE001 Y\n",
    "DE002 Y\n",
    "DE003 N\n",
    "DE004 N\n",
    "DE005 N\n",
    "DE006 N\n",
    "DE007 N\n",
    "DE008 Y\n",
    "...\n",
    "```"
   ]
  },
  {
   "attachments": {},
   "cell_type": "markdown",
   "metadata": {},
   "source": [
    "To inspect the problems:"
   ]
  },
  {
   "cell_type": "code",
   "execution_count": 1,
   "metadata": {
    "collapsed": false
   },
   "outputs": [
    {
     "name": "stdout",
     "output_type": "stream",
     "text": [
      "\u001b[1m\u001b[36mDE001\u001b[m\u001b[m/         \u001b[1m\u001b[36mDE021\u001b[m\u001b[m/         \u001b[1m\u001b[36mDE041\u001b[m\u001b[m/         \u001b[1m\u001b[36mDE061\u001b[m\u001b[m/         \u001b[1m\u001b[36mDE081\u001b[m\u001b[m/\n",
      "\u001b[1m\u001b[36mDE002\u001b[m\u001b[m/         \u001b[1m\u001b[36mDE022\u001b[m\u001b[m/         \u001b[1m\u001b[36mDE042\u001b[m\u001b[m/         \u001b[1m\u001b[36mDE062\u001b[m\u001b[m/         \u001b[1m\u001b[36mDE082\u001b[m\u001b[m/\n",
      "\u001b[1m\u001b[36mDE003\u001b[m\u001b[m/         \u001b[1m\u001b[36mDE023\u001b[m\u001b[m/         \u001b[1m\u001b[36mDE043\u001b[m\u001b[m/         \u001b[1m\u001b[36mDE063\u001b[m\u001b[m/         \u001b[1m\u001b[36mDE083\u001b[m\u001b[m/\n",
      "\u001b[1m\u001b[36mDE004\u001b[m\u001b[m/         \u001b[1m\u001b[36mDE024\u001b[m\u001b[m/         \u001b[1m\u001b[36mDE044\u001b[m\u001b[m/         \u001b[1m\u001b[36mDE064\u001b[m\u001b[m/         \u001b[1m\u001b[36mDE084\u001b[m\u001b[m/\n",
      "\u001b[1m\u001b[36mDE005\u001b[m\u001b[m/         \u001b[1m\u001b[36mDE025\u001b[m\u001b[m/         \u001b[1m\u001b[36mDE045\u001b[m\u001b[m/         \u001b[1m\u001b[36mDE065\u001b[m\u001b[m/         \u001b[1m\u001b[36mDE085\u001b[m\u001b[m/\n",
      "\u001b[1m\u001b[36mDE006\u001b[m\u001b[m/         \u001b[1m\u001b[36mDE026\u001b[m\u001b[m/         \u001b[1m\u001b[36mDE046\u001b[m\u001b[m/         \u001b[1m\u001b[36mDE066\u001b[m\u001b[m/         \u001b[1m\u001b[36mDE086\u001b[m\u001b[m/\n",
      "\u001b[1m\u001b[36mDE007\u001b[m\u001b[m/         \u001b[1m\u001b[36mDE027\u001b[m\u001b[m/         \u001b[1m\u001b[36mDE047\u001b[m\u001b[m/         \u001b[1m\u001b[36mDE067\u001b[m\u001b[m/         \u001b[1m\u001b[36mDE087\u001b[m\u001b[m/\n",
      "\u001b[1m\u001b[36mDE008\u001b[m\u001b[m/         \u001b[1m\u001b[36mDE028\u001b[m\u001b[m/         \u001b[1m\u001b[36mDE048\u001b[m\u001b[m/         \u001b[1m\u001b[36mDE068\u001b[m\u001b[m/         \u001b[1m\u001b[36mDE088\u001b[m\u001b[m/\n",
      "\u001b[1m\u001b[36mDE009\u001b[m\u001b[m/         \u001b[1m\u001b[36mDE029\u001b[m\u001b[m/         \u001b[1m\u001b[36mDE049\u001b[m\u001b[m/         \u001b[1m\u001b[36mDE069\u001b[m\u001b[m/         \u001b[1m\u001b[36mDE089\u001b[m\u001b[m/\n",
      "\u001b[1m\u001b[36mDE010\u001b[m\u001b[m/         \u001b[1m\u001b[36mDE030\u001b[m\u001b[m/         \u001b[1m\u001b[36mDE050\u001b[m\u001b[m/         \u001b[1m\u001b[36mDE070\u001b[m\u001b[m/         \u001b[1m\u001b[36mDE090\u001b[m\u001b[m/\n",
      "\u001b[1m\u001b[36mDE011\u001b[m\u001b[m/         \u001b[1m\u001b[36mDE031\u001b[m\u001b[m/         \u001b[1m\u001b[36mDE051\u001b[m\u001b[m/         \u001b[1m\u001b[36mDE071\u001b[m\u001b[m/         \u001b[1m\u001b[36mDE091\u001b[m\u001b[m/\n",
      "\u001b[1m\u001b[36mDE012\u001b[m\u001b[m/         \u001b[1m\u001b[36mDE032\u001b[m\u001b[m/         \u001b[1m\u001b[36mDE052\u001b[m\u001b[m/         \u001b[1m\u001b[36mDE072\u001b[m\u001b[m/         \u001b[1m\u001b[36mDE092\u001b[m\u001b[m/\n",
      "\u001b[1m\u001b[36mDE013\u001b[m\u001b[m/         \u001b[1m\u001b[36mDE033\u001b[m\u001b[m/         \u001b[1m\u001b[36mDE053\u001b[m\u001b[m/         \u001b[1m\u001b[36mDE073\u001b[m\u001b[m/         \u001b[1m\u001b[36mDE093\u001b[m\u001b[m/\n",
      "\u001b[1m\u001b[36mDE014\u001b[m\u001b[m/         \u001b[1m\u001b[36mDE034\u001b[m\u001b[m/         \u001b[1m\u001b[36mDE054\u001b[m\u001b[m/         \u001b[1m\u001b[36mDE074\u001b[m\u001b[m/         \u001b[1m\u001b[36mDE094\u001b[m\u001b[m/\n",
      "\u001b[1m\u001b[36mDE015\u001b[m\u001b[m/         \u001b[1m\u001b[36mDE035\u001b[m\u001b[m/         \u001b[1m\u001b[36mDE055\u001b[m\u001b[m/         \u001b[1m\u001b[36mDE075\u001b[m\u001b[m/         \u001b[1m\u001b[36mDE095\u001b[m\u001b[m/\n",
      "\u001b[1m\u001b[36mDE016\u001b[m\u001b[m/         \u001b[1m\u001b[36mDE036\u001b[m\u001b[m/         \u001b[1m\u001b[36mDE056\u001b[m\u001b[m/         \u001b[1m\u001b[36mDE076\u001b[m\u001b[m/         \u001b[1m\u001b[36mDE096\u001b[m\u001b[m/\n",
      "\u001b[1m\u001b[36mDE017\u001b[m\u001b[m/         \u001b[1m\u001b[36mDE037\u001b[m\u001b[m/         \u001b[1m\u001b[36mDE057\u001b[m\u001b[m/         \u001b[1m\u001b[36mDE077\u001b[m\u001b[m/         \u001b[31mcontents.json\u001b[m\u001b[m*\n",
      "\u001b[1m\u001b[36mDE018\u001b[m\u001b[m/         \u001b[1m\u001b[36mDE038\u001b[m\u001b[m/         \u001b[1m\u001b[36mDE058\u001b[m\u001b[m/         \u001b[1m\u001b[36mDE078\u001b[m\u001b[m/         \u001b[31mtruth.json\u001b[m\u001b[m*\n",
      "\u001b[1m\u001b[36mDE019\u001b[m\u001b[m/         \u001b[1m\u001b[36mDE039\u001b[m\u001b[m/         \u001b[1m\u001b[36mDE059\u001b[m\u001b[m/         \u001b[1m\u001b[36mDE079\u001b[m\u001b[m/         \u001b[31mtruth.txt\u001b[m\u001b[m*\n",
      "\u001b[1m\u001b[36mDE020\u001b[m\u001b[m/         \u001b[1m\u001b[36mDE040\u001b[m\u001b[m/         \u001b[1m\u001b[36mDE060\u001b[m\u001b[m/         \u001b[1m\u001b[36mDE080\u001b[m\u001b[m/\n"
     ]
    }
   ],
   "source": [
    "ls ../data/2014/du_essays/train"
   ]
  },
  {
   "attachments": {},
   "cell_type": "markdown",
   "metadata": {},
   "source": [
    "Let us now load the set of development problems for the Dutch essays:"
   ]
  },
  {
   "cell_type": "code",
   "execution_count": 2,
   "metadata": {
    "collapsed": false
   },
   "outputs": [],
   "source": [
    "from ruzicka.utilities import *\n",
    "\n",
    "D = \"../data/2014/du_essays/\"\n",
    "dev_train_data, dev_test_data = load_pan_dataset(D + \"train\")"
   ]
  },
  {
   "attachments": {},
   "cell_type": "markdown",
   "metadata": {},
   "source": [
    "This functions loads all documents and splits the development data into a development part (the known documents) and a testing part (the unknown documents). We can unpack these as follows:"
   ]
  },
  {
   "cell_type": "code",
   "execution_count": 3,
   "metadata": {
    "collapsed": true
   },
   "outputs": [],
   "source": [
    "dev_train_labels, dev_train_documents = zip(*dev_train_data)\n",
    "dev_test_labels, dev_test_documents = zip(*dev_test_data)"
   ]
  },
  {
   "attachments": {},
   "cell_type": "markdown",
   "metadata": {},
   "source": [
    "Let us have a look at the actual test texts:"
   ]
  },
  {
   "cell_type": "code",
   "execution_count": 4,
   "metadata": {
    "collapsed": false
   },
   "outputs": [
    {
     "name": "stdout",
     "output_type": "stream",
     "text": [
      "+  ﻿Dankzij het internet zijn we een grote bron aan informatie rijker . A\n",
      "+  ﻿Het is dus begrijpelijk dat de commerciële zenders meer reclame moete\n",
      "+  ﻿\" Hey , vuile nicht ! Hangt er nog stront aan je lul ? \" . Dergelijke\n",
      "+  ﻿Gelijkheid tussen man en vrouw is iets dat ons al eeuwen in de ban ho\n",
      "+  ﻿Gisteren was er opnieuw een protest tegen homofilie in de grootstad P\n",
      "+  ﻿Voetbal is vandaag de dag zonder twijfel de populairste sport in Belg\n",
      "+  ﻿Door de ongekende groei van nieuwsbronnen en de opkomst van het inter\n",
      "+  ﻿Woordenboekgebruik uit interesse De categorie woordenboekgebruikers d\n",
      "+  ﻿Ze bouwden een tegencultuur op die alles verwierp waar hun ouders alt\n",
      "+  ﻿Als we hier in België op straat rondlopen , merken we dat er zeer vee\n"
     ]
    }
   ],
   "source": [
    "from __future__ import print_function\n",
    "\n",
    "for doc in dev_test_documents[:10]:\n",
    "    print(\"+ \", doc[:70])"
   ]
  },
  {
   "attachments": {},
   "cell_type": "markdown",
   "metadata": {},
   "source": [
    "For each of these documents we need to decide whether or not they were in fact written by the target authors proposed:"
   ]
  },
  {
   "cell_type": "code",
   "execution_count": 5,
   "metadata": {
    "collapsed": false
   },
   "outputs": [
    {
     "name": "stdout",
     "output_type": "stream",
     "text": [
      "+  DE001\n",
      "+  DE002\n",
      "+  DE003\n",
      "+  DE004\n",
      "+  DE005\n",
      "+  DE006\n",
      "+  DE007\n",
      "+  DE008\n",
      "+  DE009\n",
      "+  DE010\n"
     ]
    }
   ],
   "source": [
    "for doc in dev_test_labels[:10]:\n",
    "    print(\"+ \", doc[:70])"
   ]
  },
  {
   "attachments": {},
   "cell_type": "markdown",
   "metadata": {},
   "source": [
    "The first and crucial step is to vectorize the documents using a vector space model. Below, we use generic example, using the 10,000 most common word unigrams and a plain *tf* model:"
   ]
  },
  {
   "cell_type": "code",
   "execution_count": 6,
   "metadata": {
    "collapsed": true
   },
   "outputs": [],
   "source": [
    "from ruzicka.vectorization import Vectorizer\n",
    "\n",
    "vectorizer = Vectorizer(mfi=10000, vector_space=\"tf\", ngram_type=\"word\", ngram_size=1)\n",
    "\n",
    "dev_train_X = vectorizer.fit_transform(dev_train_documents).toarray()\n",
    "dev_test_X = vectorizer.transform(dev_test_documents).toarray()"
   ]
  },
  {
   "attachments": {},
   "cell_type": "markdown",
   "metadata": {},
   "source": [
    "Note that we use `sklearn` conventions here: we fit the vectorizer only on the vocabulary of the known documents and apply it it later to the unknown documents (since in real life too, we will not necessarily know the known documents in advance). This gives us two compatible corpus matrices:"
   ]
  },
  {
   "cell_type": "code",
   "execution_count": 7,
   "metadata": {
    "collapsed": false
   },
   "outputs": [
    {
     "name": "stdout",
     "output_type": "stream",
     "text": [
      "(172, 9977)\n",
      "(96, 9977)\n"
     ]
    }
   ],
   "source": [
    "print(dev_train_X.shape)\n",
    "print(dev_test_X.shape)"
   ]
  },
  {
   "attachments": {},
   "cell_type": "markdown",
   "metadata": {},
   "source": [
    "We now encode the author labels in the development problem sets as integers, using sklearn's convenient `LabelEncoder`:"
   ]
  },
  {
   "cell_type": "code",
   "execution_count": 8,
   "metadata": {
    "collapsed": false
   },
   "outputs": [
    {
     "name": "stdout",
     "output_type": "stream",
     "text": [
      "[ 0  1  2  3  4  5  6  7  8  9 10 11 12 13 14 15 16 17 18 19 20 21 22 23\n",
      " 24 25 26 27 28 29 30 31 32 33 34 35 36 37 38 39 40 41 42 43 44 45 46 47\n",
      " 48 49 50 51 52 53 54 55 56 57 58 59 60 61 62 63 64 65 66 67 68 69 70 71\n",
      " 72 73 74 75 76 77 78 79 80 81 82 83 84 85 86 87 88 89 90 91 92 93 94 95]\n"
     ]
    }
   ],
   "source": [
    "from sklearn.preprocessing import LabelEncoder\n",
    "\n",
    "label_encoder = LabelEncoder()\n",
    "label_encoder.fit(dev_train_labels + dev_test_labels)\n",
    "dev_train_y = label_encoder.transform(dev_train_labels)\n",
    "dev_test_y = label_encoder.transform(dev_test_labels)\n",
    "print(dev_test_y)"
   ]
  },
  {
   "attachments": {},
   "cell_type": "markdown",
   "metadata": {},
   "source": [
    "We now construct and fit an 'O2' verifier: this extrinsic verification technique is based on the General Imposters framework. We apply it with the minmax metric and a profile base, meaning that the known documents for each author will be represented as a mean centroid:"
   ]
  },
  {
   "cell_type": "code",
   "execution_count": 9,
   "metadata": {
    "collapsed": false
   },
   "outputs": [],
   "source": [
    "from ruzicka.Order2Verifier import Order2Verifier\n",
    "\n",
    "dev_verifier = Order2Verifier(\n",
    "    metric=\"minmax\", base=\"profile\", nb_bootstrap_iter=100, rnd_prop=0.5\n",
    ")\n",
    "dev_verifier.fit(dev_train_X, dev_train_y)"
   ]
  },
  {
   "attachments": {},
   "cell_type": "markdown",
   "metadata": {},
   "source": [
    "We can now obtain the probability which this O1 verifier would assign to each combination of an unknown document and the target author suggested in the problem:"
   ]
  },
  {
   "cell_type": "code",
   "execution_count": 10,
   "metadata": {
    "collapsed": false
   },
   "outputs": [
    {
     "name": "stdout",
     "output_type": "stream",
     "text": [
      "\t - # test documents processed: 10 out of 96\n",
      "\t - # test documents processed: 20 out of 96\n",
      "\t - # test documents processed: 30 out of 96\n",
      "\t - # test documents processed: 40 out of 96\n",
      "\t - # test documents processed: 50 out of 96\n",
      "\t - # test documents processed: 60 out of 96\n",
      "\t - # test documents processed: 70 out of 96\n",
      "\t - # test documents processed: 80 out of 96\n",
      "\t - # test documents processed: 90 out of 96\n"
     ]
    }
   ],
   "source": [
    "dev_test_scores = dev_verifier.predict_proba(\n",
    "    test_X=dev_test_X, test_y=dev_test_y, nb_imposters=30\n",
    ")"
   ]
  },
  {
   "attachments": {},
   "cell_type": "markdown",
   "metadata": {},
   "source": [
    "This gives us as an array of probability scores for each problem, corresponding to the number of iterations in which the target's author's profile was closer to the anonymous document than to one of the imposters:"
   ]
  },
  {
   "cell_type": "code",
   "execution_count": 11,
   "metadata": {
    "collapsed": false
   },
   "outputs": [
    {
     "name": "stdout",
     "output_type": "stream",
     "text": [
      "[0.73 0.55 0.02 0.   0.13 0.05 0.01 1.   0.96 0.78 0.5  0.27 0.95 0.89\n",
      " 0.01 0.42 0.55 0.   0.02 0.38 0.   0.   0.59 0.31 0.02 0.8  0.01 0.54\n",
      " 0.02 0.01 0.   0.   0.24 0.   0.   0.19 0.   0.05 0.09 0.   0.2  0.68\n",
      " 0.04 0.81 1.   0.   0.43 0.03 0.   0.23 0.02 0.46 0.07 0.37 0.71 0.\n",
      " 0.03 0.69 0.01 0.82 0.97 0.56 0.96 0.47 0.65 0.95 0.42 0.17 0.48 0.89\n",
      " 0.4  0.01 0.02 0.57 0.09 0.14 0.26 0.   0.98 0.   0.89 0.39 0.   0.\n",
      " 1.   0.   1.   0.71 0.   0.   0.   0.54 0.   0.01 0.51 0.63]\n"
     ]
    }
   ],
   "source": [
    "print(dev_test_scores)"
   ]
  },
  {
   "attachments": {},
   "cell_type": "markdown",
   "metadata": {},
   "source": [
    "Let us now load the ground truth to check how well we did:"
   ]
  },
  {
   "cell_type": "code",
   "execution_count": 12,
   "metadata": {
    "collapsed": false
   },
   "outputs": [
    {
     "name": "stdout",
     "output_type": "stream",
     "text": [
      "[1.0, 1.0, 0.0, 0.0, 0.0, 0.0, 0.0, 1.0, 1.0, 1.0, 1.0, 1.0, 1.0, 1.0, 1.0, 1.0, 1.0, 0.0, 0.0, 1.0, 0.0, 0.0, 1.0, 1.0, 0.0, 1.0, 0.0, 1.0, 0.0, 0.0, 0.0, 0.0, 1.0, 0.0, 0.0, 1.0, 0.0, 0.0, 1.0, 0.0, 0.0, 1.0, 0.0, 1.0, 1.0, 0.0, 1.0, 0.0, 0.0, 1.0, 0.0, 1.0, 0.0, 0.0, 1.0, 0.0, 0.0, 1.0, 0.0, 1.0, 0.0, 1.0, 1.0, 1.0, 1.0, 1.0, 1.0, 1.0, 1.0, 1.0, 0.0, 0.0, 0.0, 1.0, 0.0, 0.0, 1.0, 0.0, 1.0, 0.0, 1.0, 1.0, 0.0, 0.0, 1.0, 0.0, 1.0, 1.0, 0.0, 0.0, 0.0, 1.0, 0.0, 0.0, 1.0, 0.0]\n"
     ]
    }
   ],
   "source": [
    "dev_gt_scores = load_ground_truth(\n",
    "    filepath=os.sep.join((D, \"train\", \"truth.txt\")), labels=dev_test_labels\n",
    ")\n",
    "print(dev_gt_scores)"
   ]
  },
  {
   "attachments": {},
   "cell_type": "markdown",
   "metadata": {},
   "source": [
    "There is one final step needed: the PAN evaluation measures allow systems to leave a number of difficult problems unanswered, by setting the probability exactly at 0.5. To account for this strict threshold, we fit a score shifter, which will attempt to rectify mid-range score to 0.5. We can tune these parameters as follows:"
   ]
  },
  {
   "cell_type": "code",
   "execution_count": 13,
   "metadata": {
    "collapsed": false
   },
   "outputs": [
    {
     "name": "stdout",
     "output_type": "stream",
     "text": [
      "p1 for optimal combo: 0.15000000000000002\n",
      "p2 for optimal combo: 0.4100000000000001\n",
      "AUC for optimal combo: 0.9526909722222222\n",
      "c@1 for optimal combo: 0.9375\n"
     ]
    }
   ],
   "source": [
    "from ruzicka.score_shifting import ScoreShifter\n",
    "\n",
    "shifter = ScoreShifter()\n",
    "shifter.fit(predicted_scores=dev_test_scores, ground_truth_scores=dev_gt_scores)\n",
    "dev_test_scores = shifter.transform(dev_test_scores)"
   ]
  },
  {
   "attachments": {},
   "cell_type": "markdown",
   "metadata": {},
   "source": [
    "As you can see, this shifter optimizes 2 parameters using a grid search: all values in between *p1* and *p2* will be rectified to 0.5:"
   ]
  },
  {
   "cell_type": "code",
   "execution_count": 14,
   "metadata": {
    "collapsed": false
   },
   "outputs": [
    {
     "name": "stdout",
     "output_type": "stream",
     "text": [
      "[0.8407000112533569, 0.7345000070333481, 0.002999999932944775, 0.0, 0.019499999284744267, 0.00750000011175871, 0.0014999999664723875, 1.0, 0.9763999873399734, 0.8701999831199645, 0.7050000000000001, 0.5, 0.9704999929666518, 0.9350999915599822, 0.0014999999664723875, 0.6577999922633171, 0.7345000070333481, 0.0, 0.002999999932944775, 0.5, 0.0, 0.0, 0.7580999845266343, 0.5, 0.002999999932944775, 0.882000007033348, 0.0014999999664723875, 0.7286000126600265, 0.002999999932944775, 0.0014999999664723875, 0.0, 0.0, 0.5, 0.0, 0.0, 0.5, 0.0, 0.00750000011175871, 0.013500000536441806, 0.0, 0.5, 0.8112000042200088, 0.00599999986588955, 0.8879000014066696, 1.0, 0.0, 0.6637000042200089, 0.0044999998994171625, 0.0, 0.5, 0.002999999932944775, 0.6814000049233437, 0.010500000044703485, 0.5, 0.8288999873399734, 0.0, 0.0044999998994171625, 0.8170999985933304, 0.0014999999664723875, 0.8937999957799911, 0.9823000168800353, 0.7404000014066696, 0.9763999873399734, 0.6872999992966652, 0.7934999859333038, 0.9704999929666518, 0.6577999922633171, 0.5, 0.6931999936699867, 0.9350999915599822, 0.5, 0.0014999999664723875, 0.002999999932944775, 0.7462999957799912, 0.013500000536441806, 0.02100000008940697, 0.5, 0.0, 0.9882000112533569, 0.0, 0.9350999915599822, 0.5, 0.0, 0.0, 1.0, 0.0, 1.0, 0.8288999873399734, 0.0, 0.0, 0.0, 0.7286000126600265, 0.0, 0.0014999999664723875, 0.7108999943733215, 0.7816999971866607]\n"
     ]
    }
   ],
   "source": [
    "print(dev_test_scores)"
   ]
  },
  {
   "attachments": {},
   "cell_type": "markdown",
   "metadata": {},
   "source": [
    "We can later apply this optimized score shifter to the test problems. Now the main question: how well would our O2 verifier perform on the development problems, given the optimal *p1* and *p2* found? We answer this question using the three evaluation measures used in the PAN competition."
   ]
  },
  {
   "cell_type": "code",
   "execution_count": 15,
   "metadata": {
    "collapsed": false
   },
   "outputs": [
    {
     "name": "stdout",
     "output_type": "stream",
     "text": [
      "Accuracy:  0.8645833333333334\n",
      "AUC:  0.9526909722222222\n",
      "c@1:  0.9375\n",
      "AUC x c@1:  0.8931477864583334\n"
     ]
    }
   ],
   "source": [
    "from ruzicka.evaluation import pan_metrics\n",
    "\n",
    "dev_acc_score, dev_auc_score, dev_c_at_1_score = pan_metrics(\n",
    "    prediction_scores=dev_test_scores, ground_truth_scores=dev_gt_scores\n",
    ")\n",
    "print(\"Accuracy: \", dev_acc_score)\n",
    "print(\"AUC: \", dev_auc_score)\n",
    "print(\"c@1: \", dev_c_at_1_score)\n",
    "print(\"AUC x c@1: \", dev_auc_score * dev_c_at_1_score)"
   ]
  },
  {
   "attachments": {},
   "cell_type": "markdown",
   "metadata": {},
   "source": [
    "Our score shifting approach clearly pays off, since we are able to leave difficult problems unswered, yielding to a higher c@1 than pure accuracy. We can now proceed to the test problems. The following code block runs entire parallel to the approach above: only the score shifter isn't retrained again:"
   ]
  },
  {
   "cell_type": "code",
   "execution_count": 16,
   "metadata": {
    "collapsed": false
   },
   "outputs": [
    {
     "name": "stdout",
     "output_type": "stream",
     "text": [
      "\t - # test documents processed: 10 out of 96\n",
      "\t - # test documents processed: 20 out of 96\n",
      "\t - # test documents processed: 30 out of 96\n",
      "\t - # test documents processed: 40 out of 96\n",
      "\t - # test documents processed: 50 out of 96\n",
      "\t - # test documents processed: 60 out of 96\n",
      "\t - # test documents processed: 70 out of 96\n",
      "\t - # test documents processed: 80 out of 96\n",
      "\t - # test documents processed: 90 out of 96\n",
      "Accuracy:  0.8541666666666666\n",
      "AUC:  0.9605034722222222\n",
      "c@1:  0.9071180555555555\n",
      "AUC x c@1:  0.8712900420765817\n"
     ]
    }
   ],
   "source": [
    "train_data, test_data = load_pan_dataset(D + \"test\")\n",
    "train_labels, train_documents = zip(*train_data)\n",
    "test_labels, test_documents = zip(*test_data)\n",
    "\n",
    "# vectorize:\n",
    "vectorizer = Vectorizer(mfi=10000, vector_space=\"tf\", ngram_type=\"word\", ngram_size=1)\n",
    "train_X = vectorizer.fit_transform(train_documents).toarray()\n",
    "test_X = vectorizer.transform(test_documents).toarray()\n",
    "\n",
    "# encode author labels:\n",
    "label_encoder = LabelEncoder()\n",
    "label_encoder.fit(train_labels + test_labels)\n",
    "train_y = label_encoder.transform(train_labels)\n",
    "test_y = label_encoder.transform(test_labels)\n",
    "\n",
    "# fit and predict a verifier on the test data:\n",
    "test_verifier = Order2Verifier(\n",
    "    metric=\"minmax\", base=\"profile\", nb_bootstrap_iter=100, rnd_prop=0.5\n",
    ")\n",
    "test_verifier.fit(train_X, train_y)\n",
    "test_scores = test_verifier.predict_proba(test_X=test_X, test_y=test_y, nb_imposters=30)\n",
    "\n",
    "# load the ground truth:\n",
    "test_gt_scores = load_ground_truth(\n",
    "    filepath=os.sep.join((D, \"test\", \"truth.txt\")), labels=test_labels\n",
    ")\n",
    "\n",
    "# apply the optimzed score shifter:\n",
    "test_scores = shifter.transform(test_scores)\n",
    "\n",
    "test_acc_score, test_auc_score, test_c_at_1_score = pan_metrics(\n",
    "    prediction_scores=test_scores, ground_truth_scores=test_gt_scores\n",
    ")\n",
    "\n",
    "print(\"Accuracy: \", test_acc_score)\n",
    "print(\"AUC: \", test_auc_score)\n",
    "print(\"c@1: \", test_c_at_1_score)\n",
    "print(\"AUC x c@1: \", test_auc_score * test_c_at_1_score)"
   ]
  },
  {
   "attachments": {},
   "cell_type": "markdown",
   "metadata": {},
   "source": [
    "While our final test results are a bit lower, the verifier seems to scale reasonably well to the unseen verification problems in the test set."
   ]
  },
  {
   "attachments": {},
   "cell_type": "markdown",
   "metadata": {},
   "source": [
    "# First Order Verification"
   ]
  },
  {
   "attachments": {},
   "cell_type": "markdown",
   "metadata": {},
   "source": [
    "It is interesting now to compare the GI approach to a first-order verification system, which often yields very competitive results too. Our implementation closely resembles the system proposed by Potha and Stamatatos in 2014 (A Profile-based Method for Authorship Verification). We import and fit this O1 verifier:"
   ]
  },
  {
   "cell_type": "code",
   "execution_count": 17,
   "metadata": {
    "collapsed": false
   },
   "outputs": [
    {
     "name": "stdout",
     "output_type": "stream",
     "text": [
      "[0.6975731  0.7034548  0.40138882 0.32841128 0.4868254  0.43319505\n",
      " 0.38204736 0.8891614  0.8856941  0.65019494 0.58696884 0.5480333\n",
      " 0.8099436  0.71765405 0.24394971 0.5510135  0.3095544  0.18303102\n",
      " 0.41029483 0.5063761  0.39518255 0.20231014 0.56074613 0.43544942\n",
      " 0.37015074 0.5194289  0.29052383 0.4464391  0.3594094  0.24937207\n",
      " 0.31979412 0.29739827 0.36385065 0.2593767  0.29248828 0.4547326\n",
      " 0.20648855 0.40505153 0.20148689 0.31327838 0.4837969  0.64704436\n",
      " 0.34279436 0.6349254  0.9198616  0.1382832  0.4663418  0.3931684\n",
      " 0.26801997 0.24117368 0.3338954  0.35352033 0.36349016 0.21679121\n",
      " 0.62807065 0.18063825 0.44475883 0.70594865 0.39799708 0.6576137\n",
      " 0.46410638 0.6396907  0.81281894 0.6116846  0.59626037 0.6942665\n",
      " 0.55648714 0.38163322 0.6003838  0.7621097  0.11407489 0.\n",
      " 0.0229103  0.47921854 0.21442336 0.06848055 0.32174557 0.288647\n",
      " 0.8303501  0.3065713  0.45135087 0.4558156  0.29662842 0.26255327\n",
      " 0.898336   0.26605827 1.         0.6276396  0.25173336 0.13219732\n",
      " 0.31006557 0.4544739  0.3207541  0.18185502 0.51010543 0.5678939 ]\n"
     ]
    }
   ],
   "source": [
    "from ruzicka.Order1Verifier import Order1Verifier\n",
    "\n",
    "dev_verifier = Order1Verifier(metric=\"minmax\", base=\"profile\")\n",
    "dev_verifier.fit(dev_train_X, dev_train_y)\n",
    "dev_test_scores = dev_verifier.predict_proba(test_X=dev_test_X, test_y=dev_test_y)\n",
    "print(dev_test_scores)"
   ]
  },
  {
   "attachments": {},
   "cell_type": "markdown",
   "metadata": {},
   "source": [
    "Note that in this case, the 'probabilities' returned are only distance-based pseudo-probabilities and don't lie in the range of 0-1. Applying the score shifter is therefore quintessential with O1, since it will scale the distances to a more useful range:"
   ]
  },
  {
   "cell_type": "code",
   "execution_count": 18,
   "metadata": {
    "collapsed": false
   },
   "outputs": [
    {
     "name": "stdout",
     "output_type": "stream",
     "text": [
      "p1 for optimal combo: 0.42000000000000004\n",
      "p2 for optimal combo: 0.49000000000000005\n",
      "AUC for optimal combo: 0.9006076388888888\n",
      "c@1 for optimal combo: 0.8752170138888888\n",
      "[0.8457622939348222, 0.8487619441747666, 0.16858330607414246, 0.13793273806571962, 0.5, 0.5, 0.1604598891735077, 0.9434723180532456, 0.9417039841413499, 0.8215994209051133, 0.7893541079759598, 0.7694969815015793, 0.9030712443590165, 0.8560035651922226, 0.10245887875556947, 0.7710168999433518, 0.1300128471851349, 0.07687302947044374, 0.17232382893562317, 0.7482518047094346, 0.16597667098045352, 0.08497026085853578, 0.7759805279970169, 0.5, 0.1554633128643036, 0.7549087435007096, 0.12202000737190248, 0.5, 0.1509519445896149, 0.10473626732826234, 0.13431352972984315, 0.12490727305412294, 0.15281727433204653, 0.10893821597099305, 0.12284507632255555, 0.5, 0.08672519087791444, 0.17012164235115054, 0.08462449193000794, 0.1315769183635712, 0.5, 0.8199926239252091, 0.1439736306667328, 0.813811966776848, 0.9591294234991075, 0.05807894110679627, 0.5, 0.1651307237148285, 0.1125683891773224, 0.10129294753074647, 0.14023606181144715, 0.14847854018211365, 0.15266586899757387, 0.09105230927467348, 0.8103160327672959, 0.07586806654930116, 0.5, 0.8500338119268418, 0.16715877413749697, 0.8253829842805863, 0.5, 0.8162422555685044, 0.9045376616716385, 0.801959156394005, 0.7940927881002426, 0.8440759140253067, 0.7738084429502488, 0.16028595328330994, 0.7961957472562791, 0.8786759454011918, 0.04791145205497742, 0.0, 0.009622324705123902, 0.5, 0.09005781054496766, 0.028761831521987916, 0.1351331412792206, 0.12123173832893373, 0.9134785515069962, 0.12875994801521304, 0.5, 0.5, 0.12458393454551699, 0.11027237534523011, 0.9481513565778733, 0.11174447178840638, 1.0, 0.8100961917638779, 0.10572801232337953, 0.05552287459373475, 0.13022753834724426, 0.5, 0.13471672654151917, 0.07637910962104798, 0.750153769850731, 0.779625900387764]\n"
     ]
    }
   ],
   "source": [
    "shifter = ScoreShifter()\n",
    "shifter.fit(predicted_scores=dev_test_scores, ground_truth_scores=dev_gt_scores)\n",
    "dev_test_scores = shifter.transform(dev_test_scores)\n",
    "print(dev_test_scores)"
   ]
  },
  {
   "attachments": {},
   "cell_type": "markdown",
   "metadata": {
    "collapsed": false
   },
   "source": [
    "And again, we are now ready to test the performance of O1 on the test problems."
   ]
  },
  {
   "cell_type": "code",
   "execution_count": 19,
   "metadata": {
    "collapsed": false
   },
   "outputs": [
    {
     "name": "stdout",
     "output_type": "stream",
     "text": [
      "Accuracy:  0.8333333333333334\n",
      "AUC:  0.8895399305555555\n",
      "c@1:  0.8522135416666666\n",
      "AUC x c@1:  0.7580779746726706\n"
     ]
    }
   ],
   "source": [
    "train_data, test_data = load_pan_dataset(D + \"test\")\n",
    "train_labels, train_documents = zip(*train_data)\n",
    "test_labels, test_documents = zip(*test_data)\n",
    "\n",
    "# vectorize:\n",
    "vectorizer = Vectorizer(mfi=10000, vector_space=\"tf\", ngram_type=\"word\", ngram_size=1)\n",
    "train_X = vectorizer.fit_transform(train_documents).toarray()\n",
    "test_X = vectorizer.transform(test_documents).toarray()\n",
    "\n",
    "# encode author labels:\n",
    "label_encoder = LabelEncoder()\n",
    "label_encoder.fit(train_labels + test_labels)\n",
    "train_y = label_encoder.transform(train_labels)\n",
    "test_y = label_encoder.transform(test_labels)\n",
    "\n",
    "# fit and predict a verifier on the test data:\n",
    "test_verifier = Order1Verifier(metric=\"minmax\", base=\"profile\")\n",
    "test_verifier.fit(train_X, train_y)\n",
    "test_scores = test_verifier.predict_proba(test_X=test_X, test_y=test_y)\n",
    "\n",
    "# load the ground truth:\n",
    "test_gt_scores = load_ground_truth(\n",
    "    filepath=os.sep.join((D, \"test\", \"truth.txt\")), labels=test_labels\n",
    ")\n",
    "\n",
    "# apply the optimzed score shifter:\n",
    "test_scores = shifter.transform(test_scores)\n",
    "\n",
    "test_acc_score, test_auc_score, test_c_at_1_score = pan_metrics(\n",
    "    prediction_scores=test_scores, ground_truth_scores=test_gt_scores\n",
    ")\n",
    "\n",
    "print(\"Accuracy: \", test_acc_score)\n",
    "print(\"AUC: \", test_auc_score)\n",
    "print(\"c@1: \", test_c_at_1_score)\n",
    "print(\"AUC x c@1: \", test_auc_score * test_c_at_1_score)"
   ]
  }
 ],
 "metadata": {
  "kernelspec": {
   "display_name": "py39",
   "language": "python",
   "name": "python3"
  },
  "language_info": {
   "codemirror_mode": {
    "name": "ipython",
    "version": 3
   },
   "file_extension": ".py",
   "mimetype": "text/x-python",
   "name": "python",
   "nbconvert_exporter": "python",
   "pygments_lexer": "ipython3",
   "version": "3.9.11"
  }
 },
 "nbformat": 4,
 "nbformat_minor": 0
}
